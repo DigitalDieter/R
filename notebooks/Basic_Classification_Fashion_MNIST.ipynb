{
 "cells": [
  {
   "cell_type": "code",
   "execution_count": null,
   "metadata": {},
   "outputs": [],
   "source": [
    "#install.packages('ggplot2')\n",
    "#install.packages('keras')"
   ]
  },
  {
   "cell_type": "markdown",
   "metadata": {},
   "source": [
    "#### Import the Fashion MNIST dataset\n"
   ]
  },
  {
   "cell_type": "code",
   "execution_count": 15,
   "metadata": {},
   "outputs": [],
   "source": [
    "fashion_mnist <- dataset_fashion_mnist()\n",
    "\n",
    "c(train_images, train_labels) %<-% fashion_mnist$train\n",
    "c(test_images, test_labels) %<-% fashion_mnist$test"
   ]
  },
  {
   "cell_type": "markdown",
   "metadata": {},
   "source": [
    "#### Defining the labels"
   ]
  },
  {
   "cell_type": "code",
   "execution_count": 16,
   "metadata": {},
   "outputs": [],
   "source": [
    "class_names = c('T-shirt/top',\n",
    "                'Trouser',\n",
    "                'Pullover',\n",
    "                'Dress',\n",
    "                'Coat', \n",
    "                'Sandal',\n",
    "                'Shirt',\n",
    "                'Sneaker',\n",
    "                'Bag',\n",
    "                'Ankle boot')"
   ]
  },
  {
   "cell_type": "markdown",
   "metadata": {},
   "source": [
    "#### Explore the data"
   ]
  },
  {
   "cell_type": "code",
   "execution_count": 39,
   "metadata": {},
   "outputs": [
    {
     "data": {
      "text/html": [
       "<ol class=list-inline>\n",
       "\t<li>60000</li>\n",
       "\t<li>28</li>\n",
       "\t<li>28</li>\n",
       "</ol>\n"
      ],
      "text/latex": [
       "\\begin{enumerate*}\n",
       "\\item 60000\n",
       "\\item 28\n",
       "\\item 28\n",
       "\\end{enumerate*}\n"
      ],
      "text/markdown": [
       "1. 60000\n",
       "2. 28\n",
       "3. 28\n",
       "\n",
       "\n"
      ],
      "text/plain": [
       "[1] 60000    28    28"
      ]
     },
     "metadata": {},
     "output_type": "display_data"
    },
    {
     "data": {
      "text/html": [
       "60000"
      ],
      "text/latex": [
       "60000"
      ],
      "text/markdown": [
       "60000"
      ],
      "text/plain": [
       "[1] 60000"
      ]
     },
     "metadata": {},
     "output_type": "display_data"
    }
   ],
   "source": [
    "dim(train_images)\n",
    "dim(train_labels)"
   ]
  },
  {
   "cell_type": "code",
   "execution_count": 41,
   "metadata": {},
   "outputs": [
    {
     "data": {
      "text/html": [
       "<ol class=list-inline>\n",
       "\t<li>9</li>\n",
       "\t<li>0</li>\n",
       "\t<li>0</li>\n",
       "\t<li>3</li>\n",
       "\t<li>0</li>\n",
       "\t<li>2</li>\n",
       "\t<li>7</li>\n",
       "\t<li>2</li>\n",
       "\t<li>5</li>\n",
       "\t<li>5</li>\n",
       "\t<li>0</li>\n",
       "\t<li>9</li>\n",
       "\t<li>5</li>\n",
       "\t<li>5</li>\n",
       "\t<li>7</li>\n",
       "\t<li>9</li>\n",
       "\t<li>1</li>\n",
       "\t<li>0</li>\n",
       "\t<li>6</li>\n",
       "\t<li>4</li>\n",
       "</ol>\n"
      ],
      "text/latex": [
       "\\begin{enumerate*}\n",
       "\\item 9\n",
       "\\item 0\n",
       "\\item 0\n",
       "\\item 3\n",
       "\\item 0\n",
       "\\item 2\n",
       "\\item 7\n",
       "\\item 2\n",
       "\\item 5\n",
       "\\item 5\n",
       "\\item 0\n",
       "\\item 9\n",
       "\\item 5\n",
       "\\item 5\n",
       "\\item 7\n",
       "\\item 9\n",
       "\\item 1\n",
       "\\item 0\n",
       "\\item 6\n",
       "\\item 4\n",
       "\\end{enumerate*}\n"
      ],
      "text/markdown": [
       "1. 9\n",
       "2. 0\n",
       "3. 0\n",
       "4. 3\n",
       "5. 0\n",
       "6. 2\n",
       "7. 7\n",
       "8. 2\n",
       "9. 5\n",
       "10. 5\n",
       "11. 0\n",
       "12. 9\n",
       "13. 5\n",
       "14. 5\n",
       "15. 7\n",
       "16. 9\n",
       "17. 1\n",
       "18. 0\n",
       "19. 6\n",
       "20. 4\n",
       "\n",
       "\n"
      ],
      "text/plain": [
       " [1] 9 0 0 3 0 2 7 2 5 5 0 9 5 5 7 9 1 0 6 4"
      ]
     },
     "metadata": {},
     "output_type": "display_data"
    },
    {
     "data": {
      "text/html": [
       "<ol class=list-inline>\n",
       "\t<li>10000</li>\n",
       "\t<li>28</li>\n",
       "\t<li>28</li>\n",
       "</ol>\n"
      ],
      "text/latex": [
       "\\begin{enumerate*}\n",
       "\\item 10000\n",
       "\\item 28\n",
       "\\item 28\n",
       "\\end{enumerate*}\n"
      ],
      "text/markdown": [
       "1. 10000\n",
       "2. 28\n",
       "3. 28\n",
       "\n",
       "\n"
      ],
      "text/plain": [
       "[1] 10000    28    28"
      ]
     },
     "metadata": {},
     "output_type": "display_data"
    },
    {
     "data": {
      "text/html": [
       "10000"
      ],
      "text/latex": [
       "10000"
      ],
      "text/markdown": [
       "10000"
      ],
      "text/plain": [
       "[1] 10000"
      ]
     },
     "metadata": {},
     "output_type": "display_data"
    }
   ],
   "source": [
    "train_labels[1:20]\n",
    "dim(test_images)\n",
    "dim(test_labels)"
   ]
  },
  {
   "cell_type": "markdown",
   "metadata": {},
   "source": [
    "#### Preprocess the data"
   ]
  },
  {
   "cell_type": "code",
   "execution_count": 22,
   "metadata": {},
   "outputs": [
    {
     "data": {
      "image/png": "[encoded data removed]",
      "text/plain": [
       "plot without title"
      ]
     },
     "metadata": {},
     "output_type": "display_data"
    }
   ],
   "source": [
    "library(tidyr)\n",
    "library(ggplot2)\n",
    "\n",
    "image_1 <- as.data.frame(train_images[1, , ])\n",
    "colnames(image_1) <- seq_len(ncol(image_1))\n",
    "image_1$y <- seq_len(nrow(image_1))\n",
    "image_1 <- gather(image_1, \"x\", \"value\", -y)\n",
    "image_1$x <- as.integer(image_1$x)\n",
    "\n",
    "ggplot(image_1, aes(x = x, y = y, fill = value)) +\n",
    "  geom_tile() +\n",
    "  scale_fill_gradient(low = \"white\", high = \"black\", na.value = NA) +\n",
    "  scale_y_reverse() +\n",
    "  theme_minimal() +\n",
    "  theme(panel.grid = element_blank())   +\n",
    "  theme(aspect.ratio = 1) +\n",
    "  xlab(\"\") +\n",
    "  ylab(\"\")"
   ]
  },
  {
   "cell_type": "markdown",
   "metadata": {},
   "source": [
    "####  We scale the values in a range of 0 to 1 to fit the data we have to divide by 255"
   ]
  },
  {
   "cell_type": "code",
   "execution_count": 23,
   "metadata": {},
   "outputs": [],
   "source": [
    "train_images <- train_images / 255\n",
    "test_images <- test_images / 255"
   ]
  },
  {
   "cell_type": "markdown",
   "metadata": {},
   "source": [
    "#### Display the first 25 images from the training and label above the image"
   ]
  },
  {
   "cell_type": "code",
   "execution_count": 24,
   "metadata": {},
   "outputs": [
    {
     "data": {
      "image/png": "[encoded data removed]",
      "text/plain": [
       "Plot with title “Coat”"
      ]
     },
     "metadata": {},
     "output_type": "display_data"
    }
   ],
   "source": [
    "par(mfcol=c(5,5))\n",
    "par(mar=c(0, 0, 1.5, 0), xaxs='i', yaxs='i')\n",
    "for (i in 1:25) { \n",
    "  img <- train_images[i, , ]\n",
    "  img <- t(apply(img, 2, rev)) \n",
    "  image(1:28, 1:28, img, col = gray((0:255)/255), xaxt = 'n', yaxt = 'n',\n",
    "        main = paste(class_names[train_labels[i] + 1]))\n",
    "}"
   ]
  },
  {
   "cell_type": "markdown",
   "metadata": {},
   "source": [
    "#### Building a Sequentia model"
   ]
  },
  {
   "cell_type": "code",
   "execution_count": 25,
   "metadata": {},
   "outputs": [],
   "source": [
    "model <- keras_model_sequential()\n",
    "model %>%\n",
    "  layer_flatten(input_shape = c(28, 28)) %>%\n",
    "  layer_dense(units = 128, activation = 'relu') %>%\n",
    "  layer_dense(units = 10, activation = 'softmax')"
   ]
  },
  {
   "cell_type": "markdown",
   "metadata": {},
   "source": [
    "#### Compile the model"
   ]
  },
  {
   "cell_type": "code",
   "execution_count": 26,
   "metadata": {},
   "outputs": [],
   "source": [
    "model %>% compile(\n",
    "  optimizer = 'adam', \n",
    "  loss = 'sparse_categorical_crossentropy',\n",
    "  metrics = c('accuracy')\n",
    ")"
   ]
  },
  {
   "cell_type": "markdown",
   "metadata": {},
   "source": [
    "#### Train the model"
   ]
  },
  {
   "cell_type": "code",
   "execution_count": 27,
   "metadata": {},
   "outputs": [],
   "source": [
    "model %>% fit(train_images, train_labels, epochs = 5)"
   ]
  },
  {
   "cell_type": "markdown",
   "metadata": {},
   "source": [
    "#### Evaluate accuracy"
   ]
  },
  {
   "cell_type": "code",
   "execution_count": 28,
   "metadata": {},
   "outputs": [
    {
     "name": "stdout",
     "output_type": "stream",
     "text": [
      "Test loss: 0.3720435 \n",
      "Test accuracy: 0.8639 \n"
     ]
    }
   ],
   "source": [
    "score <- model %>% evaluate(test_images, test_labels)\n",
    "\n",
    "cat('Test loss:', score$loss, \"\\n\")\n",
    "cat('Test accuracy:', score$acc, \"\\n\")"
   ]
  },
  {
   "cell_type": "markdown",
   "metadata": {},
   "source": [
    "#### Make predictions"
   ]
  },
  {
   "cell_type": "code",
   "execution_count": 46,
   "metadata": {},
   "outputs": [],
   "source": [
    "predictions <- model %>% predict(test_images)"
   ]
  },
  {
   "cell_type": "markdown",
   "metadata": {},
   "source": [
    "#### Take a look a the first prediction"
   ]
  },
  {
   "cell_type": "code",
   "execution_count": 47,
   "metadata": {},
   "outputs": [
    {
     "data": {
      "text/html": [
       "<ol class=list-inline>\n",
       "\t<li>1.46717320603784e-06</li>\n",
       "\t<li>4.23939355842506e-10</li>\n",
       "\t<li>1.49542799476876e-07</li>\n",
       "\t<li>1.47226240088116e-08</li>\n",
       "\t<li>2.92784704924998e-07</li>\n",
       "\t<li>0.00235339510254562</li>\n",
       "\t<li>3.65093546861317e-06</li>\n",
       "\t<li>0.0127186691388488</li>\n",
       "\t<li>1.66549179994036e-05</li>\n",
       "\t<li>0.984905660152435</li>\n",
       "</ol>\n"
      ],
      "text/latex": [
       "\\begin{enumerate*}\n",
       "\\item 1.46717320603784e-06\n",
       "\\item 4.23939355842506e-10\n",
       "\\item 1.49542799476876e-07\n",
       "\\item 1.47226240088116e-08\n",
       "\\item 2.92784704924998e-07\n",
       "\\item 0.00235339510254562\n",
       "\\item 3.65093546861317e-06\n",
       "\\item 0.0127186691388488\n",
       "\\item 1.66549179994036e-05\n",
       "\\item 0.984905660152435\n",
       "\\end{enumerate*}\n"
      ],
      "text/markdown": [
       "1. 1.46717320603784e-06\n",
       "2. 4.23939355842506e-10\n",
       "3. 1.49542799476876e-07\n",
       "4. 1.47226240088116e-08\n",
       "5. 2.92784704924998e-07\n",
       "6. 0.00235339510254562\n",
       "7. 3.65093546861317e-06\n",
       "8. 0.0127186691388488\n",
       "9. 1.66549179994036e-05\n",
       "10. 0.984905660152435\n",
       "\n",
       "\n"
      ],
      "text/plain": [
       " [1] 1.467173e-06 4.239394e-10 1.495428e-07 1.472262e-08 2.927847e-07\n",
       " [6] 2.353395e-03 3.650935e-06 1.271867e-02 1.665492e-05 9.849057e-01"
      ]
     },
     "metadata": {},
     "output_type": "display_data"
    }
   ],
   "source": [
    "predictions[1, ]"
   ]
  },
  {
   "cell_type": "markdown",
   "metadata": {},
   "source": [
    "A prediction is an array of 10 numbers. Which describe the “confidence” of the model that the image corresponds to each of the 10 different articles of clothing"
   ]
  },
  {
   "cell_type": "markdown",
   "metadata": {},
   "source": [
    "#### Show label with highest confidence value:"
   ]
  },
  {
   "cell_type": "code",
   "execution_count": 31,
   "metadata": {},
   "outputs": [
    {
     "data": {
      "text/html": [
       "10"
      ],
      "text/latex": [
       "10"
      ],
      "text/markdown": [
       "10"
      ],
      "text/plain": [
       "[1] 10"
      ]
     },
     "metadata": {},
     "output_type": "display_data"
    }
   ],
   "source": [
    "which.max(predictions[1, ])"
   ]
  },
  {
   "cell_type": "markdown",
   "metadata": {},
   "source": [
    "#### Show the the class prediction:"
   ]
  },
  {
   "cell_type": "code",
   "execution_count": 32,
   "metadata": {},
   "outputs": [
    {
     "data": {
      "text/html": [
       "<ol class=list-inline>\n",
       "\t<li>9</li>\n",
       "\t<li>2</li>\n",
       "\t<li>1</li>\n",
       "\t<li>1</li>\n",
       "\t<li>6</li>\n",
       "\t<li>1</li>\n",
       "\t<li>4</li>\n",
       "\t<li>6</li>\n",
       "\t<li>5</li>\n",
       "\t<li>7</li>\n",
       "\t<li>4</li>\n",
       "\t<li>5</li>\n",
       "\t<li>5</li>\n",
       "\t<li>3</li>\n",
       "\t<li>4</li>\n",
       "\t<li>1</li>\n",
       "\t<li>2</li>\n",
       "\t<li>2</li>\n",
       "\t<li>8</li>\n",
       "\t<li>0</li>\n",
       "</ol>\n"
      ],
      "text/latex": [
       "\\begin{enumerate*}\n",
       "\\item 9\n",
       "\\item 2\n",
       "\\item 1\n",
       "\\item 1\n",
       "\\item 6\n",
       "\\item 1\n",
       "\\item 4\n",
       "\\item 6\n",
       "\\item 5\n",
       "\\item 7\n",
       "\\item 4\n",
       "\\item 5\n",
       "\\item 5\n",
       "\\item 3\n",
       "\\item 4\n",
       "\\item 1\n",
       "\\item 2\n",
       "\\item 2\n",
       "\\item 8\n",
       "\\item 0\n",
       "\\end{enumerate*}\n"
      ],
      "text/markdown": [
       "1. 9\n",
       "2. 2\n",
       "3. 1\n",
       "4. 1\n",
       "5. 6\n",
       "6. 1\n",
       "7. 4\n",
       "8. 6\n",
       "9. 5\n",
       "10. 7\n",
       "11. 4\n",
       "12. 5\n",
       "13. 5\n",
       "14. 3\n",
       "15. 4\n",
       "16. 1\n",
       "17. 2\n",
       "18. 2\n",
       "19. 8\n",
       "20. 0\n",
       "\n",
       "\n"
      ],
      "text/plain": [
       " [1] 9 2 1 1 6 1 4 6 5 7 4 5 5 3 4 1 2 2 8 0"
      ]
     },
     "metadata": {},
     "output_type": "display_data"
    }
   ],
   "source": [
    "class_pred <- model %>% predict_classes(test_images)\n",
    "class_pred[1:20]"
   ]
  },
  {
   "cell_type": "markdown",
   "metadata": {},
   "source": [
    "#### Check the test_labels[1] if our prediction (ankle boot) is correct"
   ]
  },
  {
   "cell_type": "code",
   "execution_count": 33,
   "metadata": {},
   "outputs": [
    {
     "data": {
      "text/html": [
       "9"
      ],
      "text/latex": [
       "9"
      ],
      "text/markdown": [
       "9"
      ],
      "text/plain": [
       "[1] 9"
      ]
     },
     "metadata": {},
     "output_type": "display_data"
    }
   ],
   "source": [
    "test_labels[1]"
   ]
  },
  {
   "cell_type": "markdown",
   "metadata": {},
   "source": [
    "#### Plot several images with their predictions"
   ]
  },
  {
   "cell_type": "code",
   "execution_count": 34,
   "metadata": {},
   "outputs": [
    {
     "data": {
      "image/png": "[encoded data removed]",
      "text/plain": [
       "Plot with title “Trouser (Trouser)”"
      ]
     },
     "metadata": {},
     "output_type": "display_data"
    }
   ],
   "source": [
    "par(mfcol=c(5,5))\n",
    "par(mar=c(0, 0, 1.5, 0), xaxs='i', yaxs='i')\n",
    "for (i in 1:25) { \n",
    "  img <- test_images[i, , ]\n",
    "  img <- t(apply(img, 2, rev)) \n",
    "  # subtract 1 as labels go from 0 to 9\n",
    "  predicted_label <- which.max(predictions[i, ]) - 1\n",
    "  true_label <- test_labels[i]\n",
    "  if (predicted_label == true_label) {\n",
    "    color <- '#008800' \n",
    "  } else {\n",
    "    color <- '#bb0000'\n",
    "  }\n",
    "  image(1:28, 1:28, img, col = gray((0:255)/255), xaxt = 'n', yaxt = 'n',\n",
    "        main = paste0(class_names[predicted_label + 1], \" (\",\n",
    "                      class_names[true_label + 1], \")\"),\n",
    "        col.main = color)\n",
    "}"
   ]
  },
  {
   "cell_type": "markdown",
   "metadata": {},
   "source": [
    "#### Now we are using the trained model to make a prediction about a single image"
   ]
  },
  {
   "cell_type": "code",
   "execution_count": 35,
   "metadata": {},
   "outputs": [
    {
     "data": {
      "text/html": [
       "<ol class=list-inline>\n",
       "\t<li>1</li>\n",
       "\t<li>28</li>\n",
       "\t<li>28</li>\n",
       "</ol>\n"
      ],
      "text/latex": [
       "\\begin{enumerate*}\n",
       "\\item 1\n",
       "\\item 28\n",
       "\\item 28\n",
       "\\end{enumerate*}\n"
      ],
      "text/markdown": [
       "1. 1\n",
       "2. 28\n",
       "3. 28\n",
       "\n",
       "\n"
      ],
      "text/plain": [
       "[1]  1 28 28"
      ]
     },
     "metadata": {},
     "output_type": "display_data"
    }
   ],
   "source": [
    "# Grab an image from the test dataset\n",
    "# take care to keep the batch dimension, as this is expected by the model\n",
    "img <- test_images[1, , , drop = FALSE]\n",
    "dim(img)"
   ]
  },
  {
   "cell_type": "markdown",
   "metadata": {},
   "source": [
    "#### Predict the image"
   ]
  },
  {
   "cell_type": "code",
   "execution_count": 36,
   "metadata": {},
   "outputs": [
    {
     "data": {
      "text/html": [
       "<table>\n",
       "<caption>A matrix: 1 × 10 of type dbl</caption>\n",
       "<tbody>\n",
       "\t<tr><td>1.467173e-06</td><td>4.239402e-10</td><td>1.495431e-07</td><td>1.472265e-08</td><td>2.92785e-07</td><td>0.0023534</td><td>3.650935e-06</td><td>0.01271866</td><td>1.665495e-05</td><td>0.9849057</td></tr>\n",
       "</tbody>\n",
       "</table>\n"
      ],
      "text/latex": [
       "A matrix: 1 × 10 of type dbl\n",
       "\\begin{tabular}{llllllllll}\n",
       "\t 1.467173e-06 & 4.239402e-10 & 1.495431e-07 & 1.472265e-08 & 2.92785e-07 & 0.0023534 & 3.650935e-06 & 0.01271866 & 1.665495e-05 & 0.9849057\\\\\n",
       "\\end{tabular}\n"
      ],
      "text/markdown": [
       "\n",
       "A matrix: 1 × 10 of type dbl\n",
       "\n",
       "| 1.467173e-06 | 4.239402e-10 | 1.495431e-07 | 1.472265e-08 | 2.92785e-07 | 0.0023534 | 3.650935e-06 | 0.01271866 | 1.665495e-05 | 0.9849057 |\n",
       "\n"
      ],
      "text/plain": [
       "     [,1]         [,2]         [,3]         [,4]         [,5]        [,6]     \n",
       "[1,] 1.467173e-06 4.239402e-10 1.495431e-07 1.472265e-08 2.92785e-07 0.0023534\n",
       "     [,7]         [,8]       [,9]         [,10]    \n",
       "[1,] 3.650935e-06 0.01271866 1.665495e-05 0.9849057"
      ]
     },
     "metadata": {},
     "output_type": "display_data"
    }
   ],
   "source": [
    "predictions <- model %>% predict(img)\n",
    "predictions"
   ]
  },
  {
   "cell_type": "markdown",
   "metadata": {},
   "source": [
    "#### Grab prediction for our image"
   ]
  },
  {
   "cell_type": "code",
   "execution_count": 48,
   "metadata": {},
   "outputs": [
    {
     "data": {
      "text/html": [
       "10"
      ],
      "text/latex": [
       "10"
      ],
      "text/markdown": [
       "10"
      ],
      "text/plain": [
       "[1] 10"
      ]
     },
     "metadata": {},
     "output_type": "display_data"
    }
   ],
   "source": [
    "# subtract 1 as labels are 0-based\n",
    "prediction <- predictions[1, ] - 1\n",
    "which.max(prediction)"
   ]
  },
  {
   "cell_type": "markdown",
   "metadata": {},
   "source": [
    "#### Show the class prediction "
   ]
  },
  {
   "cell_type": "code",
   "execution_count": 38,
   "metadata": {},
   "outputs": [
    {
     "data": {
      "text/html": [
       "9"
      ],
      "text/latex": [
       "9"
      ],
      "text/markdown": [
       "9"
      ],
      "text/plain": [
       "[1] 9"
      ]
     },
     "metadata": {},
     "output_type": "display_data"
    }
   ],
   "source": [
    "class_pred <- model %>% predict_classes(img)\n",
    "class_pred"
   ]
  },
  {
   "cell_type": "markdown",
   "metadata": {},
   "source": [
    "#### Our model predicts a label of 9 which is an ankle boot"
   ]
  }
 ],
 "metadata": {
  "kernelspec": {
   "display_name": "R",
   "language": "R",
   "name": "ir"
  },
  "language_info": {
   "codemirror_mode": "r",
   "file_extension": ".r",
   "mimetype": "text/x-r-source",
   "name": "R",
   "pygments_lexer": "r",
   "version": "3.6.1"
  }
 },
 "nbformat": 4,
 "nbformat_minor": 2
}
